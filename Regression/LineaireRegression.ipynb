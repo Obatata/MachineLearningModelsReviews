{
 "cells": [
  {
   "cell_type": "markdown",
   "metadata": {
    "collapsed": true,
    "pycharm": {
     "name": "#%% md\n"
    }
   },
   "source": [
    "# 1. Linear Regression\n",
    "* Statistical process for estimating the relationships among variables where the target variable is continious.\n",
    "* Relationship between a dependant variable and one or more independant variables."
   ]
  },
  {
   "cell_type": "markdown",
   "metadata": {},
   "source": [
    "# 2. Multiple Linear Regression\n",
    "\n",
    "## 2.1 Distinguish between Simple and Multiple Linear regression \n",
    "#### Simple Linear regression : \n",
    "    * Independant variables (X) : Only one variable\n",
    "    * Dependente vraible (taget Y) : Only one variable \n",
    "    \n",
    "#### Multiple Linear regression : \n",
    "    * Independant variables (X) : at least two vraibles (or more)\n",
    "    * Dependente vraible (taget Y) : Only one variable \n",
    "    \n",
    "    \n",
    "## 2.1 Goal of Multiple Regression linear\n",
    "#### Independent variables effectivness on prediction\n",
    "    * For exemple : does revision time, time anxiety and gender have any effect on the exam performance (target variable) of studient ?\n",
    "  \n",
    "#### Predicting impacts of changes \n",
    "    * How much does blood  pressure go up (or down) for every unit increase (or decrease) in the BMI of a patient ? \n",
    "    \n",
    "## 2.3 Estimating multiple linear regression parametes\n",
    "#### How to estimate vector (b1, b2, ...) ?\n",
    "    * Ordinary Least Squares : (1) Linear algebra operations ==> takes long time for large datasets (> 10 k rows)\n",
    "    * For large datasets (> 10 k rows) : Gradient Descent optimization\n"
   ]
  },
  {
   "cell_type": "markdown",
   "metadata": {},
   "source": [
    "# 3. Coding Side of Linear regression (sklearn)"
   ]
  },
  {
   "cell_type": "code",
   "execution_count": 10,
   "metadata": {},
   "outputs": [
    {
     "name": "stdout",
     "output_type": "stream",
     "text": [
      "coef of lr :  [1. 2.]\n"
     ]
    }
   ],
   "source": [
    "import numpy as np\n",
    "from sklearn.linear_model import LinearRegression\n",
    "from sklearn import datasets\n",
    "\"\"\"\n",
    "Let' create sample data\n",
    "\"\"\"\n",
    "X = np.array([[1, 1], [1, 2], [2, 2], [2, 3]])\n",
    "y = np.dot(X, np.array([1, 2])) + 3\n",
    "# Load the diabetes dataset\n",
    "diabetes_X, diabetes_y = datasets.load_diabetes(return_X_y=True)\n",
    "\n",
    "\"\"\"\n",
    "Regression model\n",
    "\"\"\"\n",
    "params = {\n",
    "    'fit_intercept': True,\n",
    "    'normalize': True,\n",
    "    'copy_X': True,\n",
    "    'n_jobs': None,\n",
    "}\n",
    "\n",
    "lr = LinearRegression(**params)\n",
    "lr = lr.fit(X, y)\n",
    "lr.score(X, y)\n",
    "print(\"coef of lr : \", lr.coef_)"
   ]
  }
 ],
 "metadata": {
  "kernelspec": {
   "display_name": "Python 3",
   "language": "python",
   "name": "python3"
  },
  "language_info": {
   "codemirror_mode": {
    "name": "ipython",
    "version": 3
   },
   "file_extension": ".py",
   "mimetype": "text/x-python",
   "name": "python",
   "nbconvert_exporter": "python",
   "pygments_lexer": "ipython3",
   "version": "3.8.3"
  }
 },
 "nbformat": 4,
 "nbformat_minor": 1
}
