{
 "cells": [
  {
   "cell_type": "markdown",
   "metadata": {
    "collapsed": true
   },
   "source": [
    "# Mean Absolute Error (MAE)\n",
    "\n",
    "$$\n",
    "MAE = \\frac{1}{n}\\sum_{j = 1}^{n}{|y_{j} - \\tilde{y_{j}}|}\n",
    "$$\n",
    "\n",
    "#### mean abosulute difference of the target and predicted values"
   ]
  },
  {
   "cell_type": "code",
   "execution_count": 28,
   "metadata": {},
   "outputs": [
    {
     "name": "stdout",
     "output_type": "stream",
     "text": [
      "Linear regression coef : \n",
      "######################\n",
      "Coef of linear regression [-698.80206267] \n",
      "######################\n",
      "Metric restitusion : \n",
      "######################\n",
      "Mean Absolute Error of linear regression is 56.03 \n",
      "Mean absolute error: 56.03\n",
      "######################\n"
     ]
    },
    {
     "data": {
      "image/png": "[encoded data removed]",
      "text/plain": [
       "<Figure size 432x288 with 1 Axes>"
      ]
     },
     "metadata": {
      "needs_background": "light"
     },
     "output_type": "display_data"
    }
   ],
   "source": [
    "import matplotlib.pyplot as plt \n",
    "import numpy as np\n",
    "from sklearn.model_selection import train_test_split\n",
    "from sklearn import datasets\n",
    "from sklearn.linear_model import LinearRegression\n",
    "\"\"\"\n",
    "Metrics area\n",
    "\"\"\"\n",
    "from sklearn.metrics import mean_absolute_error \n",
    "\"\"\"\n",
    "Metrics area\n",
    "\"\"\"\n",
    "\n",
    "# dataset loading\n",
    "diabetes = datasets.load_diabetes()\n",
    "X = diabetes.data[:,None, 6]\n",
    "y = diabetes.target\n",
    "\n",
    "# split dataset (train and test split)\n",
    "X_train, X_test, y_train, y_test = train_test_split(X, y, random_state=0)\n",
    "\n",
    "# fit Linear regression\n",
    "lr = LinearRegression().fit(X_train, y_train)\n",
    "y_predict = lr.predict(X_test)\n",
    "\n",
    "print(\"Linear regression coef : \")\n",
    "print(\"######################\")\n",
    "print(\"Coef of linear regression {} \".format(lr.coef_))\n",
    "print(\"######################\")\n",
    "      \n",
    "\"\"\"\n",
    "Metrics restitution\n",
    "\"\"\"\n",
    "print(\"Metric restitusion : \")\n",
    "print(\"######################\")\n",
    "print(\"Mean Absolute Error of linear regression is {:.2f} \".format(mean_absolute_error(y_test, y_predict)))\n",
    "print(\"Mean absolute error: %.2f\" % np.mean(np.absolute(y_test-y_predict )))\n",
    "print(\"######################\")\n",
    "\n",
    "\n",
    "# plot and vizualisation\n",
    "plt.scatter(X_test, y_test, color = 'black')\n",
    "plt.plot(X_test, y_predict, color = 'red', linewidth=2)\n",
    "plt.show()"
   ]
  },
  {
   "cell_type": "markdown",
   "metadata": {},
   "source": [
    "# Mean Squared Error  OR Residual sum of square (MSE)\n",
    "\n",
    "$$\n",
    "MSE = \\frac{1}{n}\\sum_{j = 1}^{n}{(y_{j} - \\tilde{y_{j}})}^{2}\n",
    "$$\n",
    "\n",
    "#### More popular than MAE because the focus here is geared more towards large errors"
   ]
  },
  {
   "cell_type": "code",
   "execution_count": 16,
   "metadata": {},
   "outputs": [
    {
     "name": "stdout",
     "output_type": "stream",
     "text": [
      "Linear regression coef : \n",
      "Coef of linear regression [-698.80206267] \n",
      "######################\n",
      "Metric restitusion : \n",
      "Mean Absolute Error of linear regression is 4646.74 \n",
      "######################\n"
     ]
    },
    {
     "data": {
      "image/png": "[encoded data removed]",
      "text/plain": [
       "<Figure size 432x288 with 1 Axes>"
      ]
     },
     "metadata": {
      "needs_background": "light"
     },
     "output_type": "display_data"
    }
   ],
   "source": [
    "import matplotlib.pyplot as plt \n",
    "import numpy as np\n",
    "from sklearn.model_selection import train_test_split\n",
    "from sklearn import datasets\n",
    "from sklearn.linear_model import LinearRegression\n",
    "\"\"\"\n",
    "Metrics area\n",
    "\"\"\"\n",
    "from sklearn.metrics import mean_squared_error\n",
    "\"\"\"\n",
    "Metrics area\n",
    "\"\"\"\n",
    "\n",
    "# dataset loading\n",
    "diabetes = datasets.load_diabetes()\n",
    "X = diabetes.data[:,None, 6]\n",
    "y = diabetes.target\n",
    "\n",
    "# split dataset (train and test split)\n",
    "X_train, X_test, y_train, y_test = train_test_split(X, y, random_state=0)\n",
    "\n",
    "# fit Linear regression\n",
    "lr = LinearRegression().fit(X_train, y_train)\n",
    "y_predict = lr.predict(X_test)\n",
    "\n",
    "print(\"Linear regression coef : \")\n",
    "print(\"Coef of linear regression {} \".format(lr.coef_))\n",
    "print(\"######################\")\n",
    "      \n",
    "\"\"\"\n",
    "Metrics restitution\n",
    "\"\"\"\n",
    "print(\"Metric restitusion : \")\n",
    "print(\"Mean Absolute Error of linear regression is {:.2f} \".format(mean_squared_error(y_test, y_predict)))\n",
    "print(\"######################\")\n",
    "\n",
    "\n",
    "# plot and vizualisation\n",
    "plt.scatter(X_test, y_test, color = 'black')\n",
    "plt.plot(X_test, y_predict, color = 'red', linewidth=2)\n",
    "plt.show()"
   ]
  },
  {
   "cell_type": "markdown",
   "metadata": {},
   "source": [
    "# Squared root of Mean Squared Error (RMSE)\n",
    "\n",
    "$$\n",
    "RMSE = \\sqrt{\\frac{1}{n}\\sum_{j = 1}^{n}{(y_{j} - \\tilde{y_{j}})}^{2}}\n",
    "$$\n",
    "\n",
    "\n",
    "#### Advantage : this metric is interpritable in the same units as the response vector or Y(target) units"
   ]
  },
  {
   "cell_type": "code",
   "execution_count": 27,
   "metadata": {},
   "outputs": [
    {
     "name": "stdout",
     "output_type": "stream",
     "text": [
      "Linear regression coef : \n",
      "Coef of linear regression [-698.80206267] \n",
      "######################\n",
      "Metric restitusion : \n",
      "Squared root of Mean Squared Error 68.17 \n",
      "######################\n"
     ]
    },
    {
     "data": {
      "image/png": "[encoded data removed]",
      "text/plain": [
       "<Figure size 432x288 with 1 Axes>"
      ]
     },
     "metadata": {
      "needs_background": "light"
     },
     "output_type": "display_data"
    }
   ],
   "source": [
    "import matplotlib.pyplot as plt \n",
    "import numpy as np\n",
    "from sklearn.model_selection import train_test_split\n",
    "from sklearn import datasets\n",
    "from sklearn.linear_model import LinearRegression\n",
    "\"\"\"\n",
    "Metrics area\n",
    "\"\"\"\n",
    "from sklearn.metrics import mean_squared_error\n",
    "import math\n",
    "\"\"\"\n",
    "Metrics area\n",
    "\"\"\"\n",
    "\n",
    "# dataset loading\n",
    "diabetes = datasets.load_diabetes()\n",
    "X = diabetes.data[:,None, 6]\n",
    "y = diabetes.target\n",
    "\n",
    "# split dataset (train and test split)\n",
    "X_train, X_test, y_train, y_test = train_test_split(X, y, random_state=0)\n",
    "\n",
    "# fit Linear regression\n",
    "lr = LinearRegression().fit(X_train, y_train)\n",
    "y_predict = lr.predict(X_test)\n",
    "\n",
    "print(\"Linear regression coef : \")\n",
    "print(\"Coef of linear regression {} \".format(lr.coef_))\n",
    "print(\"######################\")\n",
    "      \n",
    "\"\"\"\n",
    "Metrics restitution\n",
    "\"\"\"\n",
    "print(\"Metric restitusion : \")\n",
    "print(\"Squared root of Mean Squared Error {:.2f} \".format(math.sqrt(mean_squared_error(y_test, y_predict))))\n",
    "print(\"######################\")\n",
    "\n",
    "\n",
    "# plot and vizualisation\n",
    "plt.scatter(X_test, y_test, color = 'black')\n",
    "plt.plot(X_test, y_predict, color = 'red', linewidth=2)\n",
    "plt.show()"
   ]
  },
  {
   "cell_type": "markdown",
   "metadata": {},
   "source": [
    "# Relative Absolute Error (RAE)\n",
    "\n",
    "$$\n",
    "RAE = \\frac{\\sum_{j = 1}^{n}{|y_{j} - \\tilde{y_{j}}|}}{\\sum_{j = 1}^{n}{|y_{j} - \\bar{y}}|}\n",
    "$$\n",
    "\n",
    "#### Takes the totale absolute error and normalizes it, by dividing the total absoulte error  of the sample target (y)"
   ]
  },
  {
   "cell_type": "markdown",
   "metadata": {},
   "source": [
    "# Relative Squared Error (RSE)\n",
    "\n",
    "$$\n",
    "RSE = \\frac{\\sum_{j = 1}^{n}{(y_{j} - \\tilde{y_{j}})^{2}}}{\\sum_{j = 1}^{n}{(y_{j} - \\bar{y}})^{2}}\n",
    "$$\n",
    "\n",
    "#### Similare to RAE but is widely adapted by the data science comunity as it is used for calculating R-squared\n",
    "\n",
    "## R-squared (R^{2})\n",
    "* R-quared is not an error per say but is a popular metric for the accuracy of your model \n",
    "* It represente how close the data values are to the fitted regression line\n",
    "* The Higher R-quared (best score possible = 1.0)  ==> The better fits your data\n",
    "* Constant prediction (if model predict same value for any input) ==> score of R-squared = 0.0\n",
    "\n"
   ]
  },
  {
   "cell_type": "code",
   "execution_count": 15,
   "metadata": {},
   "outputs": [
    {
     "name": "stdout",
     "output_type": "stream",
     "text": [
      "Linear regression coef : \n",
      "Coef of linear regression [-698.80206267] \n",
      "######################\n",
      "Metric restitusion : \n",
      "Mean Absolute Error of linear regression is 4646.74 \n",
      "r2_score of linear regression is  0.06 \n",
      "######################\n"
     ]
    },
    {
     "data": {
      "image/png": "[encoded data removed]",
      "text/plain": [
       "<Figure size 432x288 with 1 Axes>"
      ]
     },
     "metadata": {
      "needs_background": "light"
     },
     "output_type": "display_data"
    }
   ],
   "source": [
    "import matplotlib.pyplot as plt \n",
    "import numpy as np\n",
    "from sklearn.model_selection import train_test_split\n",
    "from sklearn import datasets\n",
    "from sklearn.linear_model import LinearRegression\n",
    "\"\"\"\n",
    "Metrics area\n",
    "\"\"\"\n",
    "from sklearn.metrics import mean_squared_error, r2_score\n",
    "\"\"\"\n",
    "Metrics area\n",
    "\"\"\"\n",
    "\n",
    "# dataset loading\n",
    "diabetes = datasets.load_diabetes()\n",
    "X = diabetes.data[:,None, 6]\n",
    "y = diabetes.target\n",
    "\n",
    "# split dataset (train and test split)\n",
    "X_train, X_test, y_train, y_test = train_test_split(X, y, random_state=0)\n",
    "\n",
    "# fit Linear regression\n",
    "lr = LinearRegression().fit(X_train, y_train)\n",
    "y_predict = lr.predict(X_test)\n",
    "\n",
    "print(\"Linear regression coef : \")\n",
    "print(\"Coef of linear regression {} \".format(lr.coef_))\n",
    "print(\"######################\")\n",
    "      \n",
    "\"\"\"\n",
    "Metrics restitution\n",
    "\"\"\"\n",
    "print(\"Metric restitusion : \")\n",
    "print(\"Mean Absolute Error of linear regression is {:.2f} \".format(mean_squared_error(y_test, y_predict)))\n",
    "print(\"r2_score of linear regression is  {:.2f} \".format(r2_score(y_test, y_predict)))\n",
    "print(\"######################\")\n",
    "\n",
    "\n",
    "# plot and vizualisation\n",
    "plt.scatter(X_test, y_test, color = 'black')\n",
    "plt.plot(X_test, y_predict, color = 'red', linewidth=2)\n",
    "plt.show()"
   ]
  }
 ],
 "metadata": {
  "kernelspec": {
   "display_name": "Python 3",
   "language": "python",
   "name": "python3"
  },
  "language_info": {
   "codemirror_mode": {
    "name": "ipython",
    "version": 3
   },
   "file_extension": ".py",
   "mimetype": "text/x-python",
   "name": "python",
   "nbconvert_exporter": "python",
   "pygments_lexer": "ipython3",
   "version": "3.8.3"
  }
 },
 "nbformat": 4,
 "nbformat_minor": 1
}
