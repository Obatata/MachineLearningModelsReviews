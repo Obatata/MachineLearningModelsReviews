{
 "cells": [
  {
   "cell_type": "markdown",
   "metadata": {},
   "source": [
    "# 1. Lasso Regression (L1 penality)\n",
    "$$\n",
    "L_{r_ridge}(w, b) = \\sum_{i = 1}^{N}{(y_{i} - (w.x_{i}+b))^{2}} + \\alpha\\sum_{i = 1}^{N}|{{w_{j}|}}\n",
    "$$\n",
    "\n",
    "    * Minimize the sum of absolute values of the coefficients\n",
    "    * A subset of coefficients are forced to be procesily zero ===> automatic feature selection\n",
    "    * Regulatization is cotrolled by the parameter alpha\n",
    "### 1.1 When use Lasso Regression ? \n",
    "    * A few features (x) that have medium/large effect on the target variable (y) ==> use Lasso Regression\n",
    "    * Lots of features (x) that contribute small/medium effect on target variable (y) ==> use Ridge Regression\n"
   ]
  },
  {
   "cell_type": "markdown",
   "metadata": {},
   "source": [
    "# 2. Coding side of Lasso Regression (sklearn) "
   ]
  },
  {
   "cell_type": "code",
   "execution_count": 2,
   "metadata": {},
   "outputs": [
    {
     "name": "stdout",
     "output_type": "stream",
     "text": [
      "Model parameters : \n",
      "####################\n",
      "Ridg Regression intercept param : True \n",
      "----------------------------------------------------------------------------------------------------\n",
      "Ridg Rehression coef : \n",
      "[  0.          -0.         140.74817495  27.05138828  -0.\n",
      "  -0.         -11.34003209   0.         110.71886545   0.        ]\n",
      "----------------------------------------------------------------------------------------------------\n",
      "number of non zero features is 4 \n",
      "\n",
      "\n",
      "Model evaluation :\n",
      "####################\n",
      "R-squared error for test model is -162.996 \n"
     ]
    }
   ],
   "source": [
    "from sklearn.model_selection import train_test_split\n",
    "from sklearn import datasets\n",
    "\n",
    "\"\"\"\n",
    "Dataset load and split\n",
    "\"\"\"\n",
    "X_diabetes, y_diabetes = datasets.load_diabetes(return_X_y=True)\n",
    "X_train, X_test, y_train, y_test = train_test_split(X_diabetes, y_diabetes, random_state=0)\n",
    "\n",
    "\n",
    "\"\"\"\n",
    "##########################\n",
    "\"\"\"\n",
    "\n",
    "\"\"\"\n",
    "Feature Normalization\n",
    "\"\"\"\n",
    "from sklearn.preprocessing import MinMaxScaler\n",
    "scaler = MinMaxScaler()\n",
    "\n",
    "X_train_scaled = scaler.fit_transform(X_train)\n",
    "X_test_scaled = scaler.fit_transform(X_test)\n",
    "\n",
    "\n",
    "\"\"\"\n",
    "#########################\n",
    "\"\"\"\n",
    "\n",
    "\n",
    "\"\"\"\n",
    "Ridge Regression runing\n",
    "\"\"\"\n",
    "\n",
    "from sklearn.linear_model import Lasso\n",
    "\n",
    "params = {\n",
    "    \n",
    "    \"alpha\":20.0,  # defaut = 1.0\n",
    "    \"fit_intercept\":True, # defaut = True\n",
    "    \"normalize\":True, # normalize data \n",
    "    \"max_iter\": 15000, # defaut value is 15000\n",
    "    \"tol\":1e-3, #default=1e-3 precision of solutiuon of w vector found by solver\n",
    "    \"solver\":\"auto\", #{‘auto’ : according to data, ‘svd’ : Decomposition, ‘cholesky’, ‘lsqr’, ‘sparse_cg’, ‘sag’, ‘saga’, ‘lbfgs’}\n",
    "}\n",
    "\n",
    "l_lasso = Lasso(alpha=2.0,\n",
    "                fit_intercept=True).fit(X_train_scaled, y_train)\n",
    "\n",
    "\"\"\"\n",
    "############################\n",
    "\"\"\"\n",
    "\n",
    "\n",
    "print(\"Model parameters : \")\n",
    "print(\"#\"*20)\n",
    "print(\"Ridg Regression intercept param : {} \".format(l_lasso.fit_intercept))\n",
    "print(\"-\"*100)\n",
    "print(\"Ridg Rehression coef : \\n{}\".format(l_lasso.coef_))\n",
    "print(\"-\"*100)\n",
    "print(\"number of non zero features is {} \".format(sum(l_lasso.coef_ != 0)))\n",
    "print()\n",
    "print()\n",
    "\n",
    "\n",
    "\n",
    "\n",
    "\"\"\"\n",
    "Model evaluation\n",
    "\"\"\"\n",
    "\n",
    "from sklearn.metrics import r2_score, mean_squared_error\n",
    "\n",
    "print(\"Model evaluation :\")\n",
    "print(\"#\"*20)\n",
    "y_predict_train = l_lasso.predict(X_train)\n",
    "y_predict_test = l_lasso.predict(X_test)\n",
    "print(\"R-squared error for test model is {:.3f} \".format(r2_score(y_predict_test, y_test)))\n",
    "\n"
   ]
  },
  {
   "cell_type": "code",
   "execution_count": null,
   "metadata": {},
   "outputs": [],
   "source": []
  },
  {
   "cell_type": "code",
   "execution_count": null,
   "metadata": {},
   "outputs": [],
   "source": []
  },
  {
   "cell_type": "code",
   "execution_count": null,
   "metadata": {},
   "outputs": [],
   "source": []
  }
 ],
 "metadata": {
  "kernelspec": {
   "display_name": "Python 3",
   "language": "python",
   "name": "python3"
  },
  "language_info": {
   "codemirror_mode": {
    "name": "ipython",
    "version": 3
   },
   "file_extension": ".py",
   "mimetype": "text/x-python",
   "name": "python",
   "nbconvert_exporter": "python",
   "pygments_lexer": "ipython3",
   "version": "3.8.3"
  }
 },
 "nbformat": 4,
 "nbformat_minor": 4
}
