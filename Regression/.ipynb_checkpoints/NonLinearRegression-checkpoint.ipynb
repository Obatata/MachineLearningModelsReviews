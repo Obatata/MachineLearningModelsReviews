{
 "cells": [
  {
   "cell_type": "markdown",
   "metadata": {},
   "source": [
    "# 1. Non-Linear Regression Definition\n",
    "\n",
    "    * To model non-linear relationship between the independent variables (X features) and the dependent variable (y target)\n",
    "    * y_predict (out of model) must be a non-linear function of parameters (weight of function) and not necessary the features X\n"
   ]
  },
  {
   "cell_type": "markdown",
   "metadata": {},
   "source": [
    "### 1.2 Non-linear shape possibilites:\n",
    "    * Exponential\n",
    "    * Logarithmic\n",
    "    * Logistic\n",
    "    * ....\n",
    "    \n",
    "### 1.3 Recognize if a problem is linear or non-linear\n",
    "    * Visually : figure out relation by ploting bivariate plots of target vraiable (y) with each feature (x)\n",
    "    * Estimate correlation coefficient between features (x) and target variable (y), if for all features it is >= 0.7, then it is linear tendency ==> not necessary to fit non-linear rregression\n",
    "    * Based on accuracy : if linear model dont get good accuracy ==> try with non-linear regression\n",
    "    \n",
    "### 1.4 Data modeling in non-linear contexte\n",
    "    * Polinomial regression\n",
    "    * Non-linear regression model\n",
    "    * Transform the data"
   ]
  },
  {
   "cell_type": "markdown",
   "metadata": {},
   "source": [
    "# 2. Coding side for Non-Linear Regression"
   ]
  },
  {
   "cell_type": "markdown",
   "metadata": {},
   "source": [
    "## 2.2 Load, read, plot and split data"
   ]
  },
  {
   "cell_type": "code",
   "execution_count": 13,
   "metadata": {},
   "outputs": [
    {
     "data": {
      "image/png": "[encoded data removed]",
      "text/plain": [
       "<Figure size 432x288 with 1 Axes>"
      ]
     },
     "metadata": {
      "needs_background": "light"
     },
     "output_type": "display_data"
    },
    {
     "name": "stdout",
     "output_type": "stream",
     "text": [
      "train data : \n",
      "   ENGINESIZE  CYLINDERS  FUELCONSUMPTION_COMB  CO2EMISSIONS\n",
      "0         2.0          4                   8.5           196\n",
      "2         1.5          4                   5.9           136\n",
      "3         3.5          6                  11.1           255\n",
      "4         3.5          6                  10.6           244\n",
      "5         3.5          6                  10.0           230\n",
      "------------------------------------------------------------\n",
      "test data : \n",
      "    ENGINESIZE  CYLINDERS  FUELCONSUMPTION_COMB  CO2EMISSIONS\n",
      "1          2.4          4                   9.6           221\n",
      "8          3.7          6                  11.6           267\n",
      "23         2.0          4                  10.0           230\n",
      "33         3.0          6                  11.2           258\n",
      "40         2.0          4                   9.2           212\n"
     ]
    }
   ],
   "source": [
    "import pandas as pd \n",
    "import numpy as np\n",
    "import matplotlib.pyplot as plt\n",
    "\"\"\"\n",
    "Reading dataset\n",
    "\n",
    "Recall:\n",
    "------\n",
    "target_variable (y) : Emission\n",
    "Features (x) : the remainder variables\n",
    "\"\"\"\n",
    "\n",
    "data_consumption = pd.read_csv(\"FuelConsumption.csv\", sep =\",\")\n",
    "# restrict data for some columns : 'ENGINESIZE','CYLINDERS','FUELCONSUMPTION_COMB','CO2EMISSIONS'\n",
    "data_consumption = data_consumption[['ENGINESIZE','CYLINDERS','FUELCONSUMPTION_COMB','CO2EMISSIONS']]\n",
    "\n",
    "\"\"\"\n",
    "Plot data to see the distribution : \n",
    "\"\"\"\n",
    "plt.scatter(data_consumption[\"ENGINESIZE\"], data_consumption[\"CO2EMISSIONS\"])\n",
    "plt.xlabel(\"ENGINESIZE\")\n",
    "plt.ylabel(\"CO2EMISSIONS\")\n",
    "plt.show()\n",
    "\n",
    "\"\"\"\n",
    "Create train and test split dataset\n",
    "\"\"\"\n",
    "mask = np.random.rand(len(data_consumption)) < 0.8\n",
    "train = data_consumption[mask]\n",
    "test = data_consumption[~mask]\n",
    "\n",
    "print(\"train data : \")\n",
    "print(train.head())\n",
    "print(\"--\"*30)\n",
    "print(\"test data : \")\n",
    "print(test.head())"
   ]
  },
  {
   "cell_type": "markdown",
   "metadata": {},
   "source": [
    "## 2.3 Quadratic regression "
   ]
  },
  {
   "cell_type": "code",
   "execution_count": 28,
   "metadata": {},
   "outputs": [
    {
     "name": "stdout",
     "output_type": "stream",
     "text": [
      "Evaluation : \n",
      "#############\n",
      "Mean absolute error of model is 23.77 \n",
      "Mean square arror model is 996.96 \n",
      "R2-score error of model is 0.67 \n"
     ]
    }
   ],
   "source": [
    "from sklearn.preprocessing import PolynomialFeatures\n",
    "\n",
    "\"\"\"\n",
    "Transform data by using PolynomialFeatures\n",
    "\"\"\"\n",
    "X_train = np.asanyarray(train[[\"ENGINESIZE\"]])\n",
    "y_train = np.asanyarray(train[[\"CO2EMISSIONS\"]])\n",
    "\n",
    "X_test = np.asanyarray(test[[\"ENGINESIZE\"]])\n",
    "y_test = np.asanyarray(test[[\"CO2EMISSIONS\"]])\n",
    "\n",
    "\n",
    "\"\"\"\n",
    "Set the polynome transormer to degree 2 (quatratic)\n",
    "\"\"\"\n",
    "poly = PolynomialFeatures(degree=2)\n",
    "X_train_poly = poly.fit_transform(X_train)\n",
    "\n",
    "\n",
    "from sklearn.linear_model import LinearRegression\n",
    "\"\"\"\n",
    "Train linear regression model over the transfomed data (polynomial out)\n",
    "\"\"\"\n",
    "lr = LinearRegression().fit(X_train_poly, y_train)\n",
    "\n",
    "\n",
    "\n",
    "from sklearn.metrics import r2_score, mean_absolute_error, mean_squared_error\n",
    "\"\"\"\n",
    "Evaluation\n",
    "\"\"\"\n",
    "X_test_poly = poly.fit_transform(X_test)\n",
    "\n",
    "predict_y = lr.predict(X_test_poly)\n",
    "print(\"Evaluation : \")\n",
    "print(\"#\"*13)\n",
    "\n",
    "print(\"Mean absolute error of model is %.2f \" % mean_absolute_error(predict_y, y_test))\n",
    "print(\"Mean square arror model is %.2f \" % mean_squared_error(predict_y, y_test))\n",
    "print(\"R2-score error of model is %.2f \" % r2_score(predict_y, y_test))\n",
    "\n"
   ]
  },
  {
   "cell_type": "code",
   "execution_count": 29,
   "metadata": {},
   "outputs": [
    {
     "name": "stdout",
     "output_type": "stream",
     "text": [
      "Evaluation : \n",
      "#############\n",
      "Mean absolute error of model is 23.77 \n",
      "Mean square arror model is 997.74 \n",
      "R2-score error of model is 0.67 \n"
     ]
    }
   ],
   "source": [
    "from sklearn.preprocessing import PolynomialFeatures\n",
    "\n",
    "\"\"\"\n",
    "Transform data by using PolynomialFeatures\n",
    "\"\"\"\n",
    "X_train = np.asanyarray(train[[\"ENGINESIZE\"]])\n",
    "y_train = np.asanyarray(train[[\"CO2EMISSIONS\"]])\n",
    "\n",
    "X_test = np.asanyarray(test[[\"ENGINESIZE\"]])\n",
    "y_test = np.asanyarray(test[[\"CO2EMISSIONS\"]])\n",
    "\n",
    "\n",
    "\"\"\"\n",
    "Set the polynome transormer to degree 2 (quatratic)\n",
    "\"\"\"\n",
    "poly = PolynomialFeatures(degree=3)\n",
    "X_train_poly = poly.fit_transform(X_train)\n",
    "\n",
    "\n",
    "from sklearn.linear_model import LinearRegression\n",
    "\"\"\"\n",
    "Train linear regression model over the transfomed data (polynomial out)\n",
    "\"\"\"\n",
    "lr = LinearRegression().fit(X_train_poly, y_train)\n",
    "\n",
    "\n",
    "\n",
    "from sklearn.metrics import r2_score, mean_absolute_error, mean_squared_error\n",
    "\"\"\"\n",
    "Evaluation\n",
    "\"\"\"\n",
    "X_test_poly = poly.fit_transform(X_test)\n",
    "\n",
    "predict_y = lr.predict(X_test_poly)\n",
    "print(\"Evaluation : \")\n",
    "print(\"#\"*13)\n",
    "\n",
    "print(\"Mean absolute error of model is %.2f \" % mean_absolute_error(predict_y, y_test))\n",
    "print(\"Mean square arror model is %.2f \" % mean_squared_error(predict_y, y_test))\n",
    "print(\"R2-score error of model is %.2f \" % r2_score(predict_y, y_test))\n",
    "\n"
   ]
  },
  {
   "cell_type": "code",
   "execution_count": null,
   "metadata": {},
   "outputs": [],
   "source": []
  },
  {
   "cell_type": "code",
   "execution_count": null,
   "metadata": {},
   "outputs": [],
   "source": []
  },
  {
   "cell_type": "code",
   "execution_count": null,
   "metadata": {},
   "outputs": [],
   "source": []
  },
  {
   "cell_type": "code",
   "execution_count": null,
   "metadata": {},
   "outputs": [],
   "source": []
  },
  {
   "cell_type": "code",
   "execution_count": null,
   "metadata": {},
   "outputs": [],
   "source": []
  },
  {
   "cell_type": "code",
   "execution_count": null,
   "metadata": {},
   "outputs": [],
   "source": []
  },
  {
   "cell_type": "code",
   "execution_count": null,
   "metadata": {},
   "outputs": [],
   "source": []
  },
  {
   "cell_type": "code",
   "execution_count": null,
   "metadata": {},
   "outputs": [],
   "source": []
  },
  {
   "cell_type": "code",
   "execution_count": null,
   "metadata": {},
   "outputs": [],
   "source": []
  },
  {
   "cell_type": "code",
   "execution_count": null,
   "metadata": {},
   "outputs": [],
   "source": []
  },
  {
   "cell_type": "code",
   "execution_count": null,
   "metadata": {},
   "outputs": [],
   "source": []
  },
  {
   "cell_type": "code",
   "execution_count": null,
   "metadata": {},
   "outputs": [],
   "source": []
  },
  {
   "cell_type": "code",
   "execution_count": null,
   "metadata": {},
   "outputs": [],
   "source": []
  },
  {
   "cell_type": "code",
   "execution_count": null,
   "metadata": {},
   "outputs": [],
   "source": []
  },
  {
   "cell_type": "code",
   "execution_count": null,
   "metadata": {},
   "outputs": [],
   "source": []
  },
  {
   "cell_type": "code",
   "execution_count": null,
   "metadata": {},
   "outputs": [],
   "source": []
  },
  {
   "cell_type": "code",
   "execution_count": null,
   "metadata": {},
   "outputs": [],
   "source": []
  },
  {
   "cell_type": "code",
   "execution_count": null,
   "metadata": {},
   "outputs": [],
   "source": []
  },
  {
   "cell_type": "code",
   "execution_count": null,
   "metadata": {},
   "outputs": [],
   "source": []
  },
  {
   "cell_type": "code",
   "execution_count": null,
   "metadata": {},
   "outputs": [],
   "source": []
  },
  {
   "cell_type": "code",
   "execution_count": null,
   "metadata": {},
   "outputs": [],
   "source": []
  },
  {
   "cell_type": "code",
   "execution_count": null,
   "metadata": {},
   "outputs": [],
   "source": []
  },
  {
   "cell_type": "code",
   "execution_count": null,
   "metadata": {},
   "outputs": [],
   "source": []
  },
  {
   "cell_type": "code",
   "execution_count": null,
   "metadata": {},
   "outputs": [],
   "source": []
  },
  {
   "cell_type": "code",
   "execution_count": null,
   "metadata": {},
   "outputs": [],
   "source": []
  }
 ],
 "metadata": {
  "kernelspec": {
   "display_name": "Python 3",
   "language": "python",
   "name": "python3"
  },
  "language_info": {
   "codemirror_mode": {
    "name": "ipython",
    "version": 3
   },
   "file_extension": ".py",
   "mimetype": "text/x-python",
   "name": "python",
   "nbconvert_exporter": "python",
   "pygments_lexer": "ipython3",
   "version": "3.8.3"
  }
 },
 "nbformat": 4,
 "nbformat_minor": 4
}
